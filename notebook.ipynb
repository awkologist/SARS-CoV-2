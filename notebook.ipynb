{
 "cells": [
  {
   "cell_type": "markdown",
   "metadata": {},
   "source": [
    "# Über dieses Notebook\n",
    "\n",
    "Dieses Notebook begleitet meine Module _Computational Biology_ und _Biodata Processing_ an der Hochschule Mittweida. Wenn Sie _Jupyter_ installiert haben, können Sie diese Datei herunterladen und nutzen. Ansonsten kopieren Sie die Befehle einfach in Ihren Terminal. In jedem Fall brauchen Sie ein Linux-System – echt oder emuliert.\n",
    "\n",
    "Mit den Skripten in diesem Notebook werden wir die __Sequenzvariationen von SARS-CoV-2 Viren__ analysieren. Die Analyse ist dahingehend vereinfacht, dass wir nur Genome einer bestimmten Länge untersuchen, die beim NCBI hinterlegt sind.\n",
    "\n",
    "Have a lot of fun ..."
   ]
  },
  {
   "cell_type": "markdown",
   "metadata": {},
   "source": [
    "# Technische Information\n",
    "\n",
    "- `!` ruft eine Bash-Shell als einen neuen Prozess auf. Nach dessen Ausführung wird die Shell direkt wieder geschlossen. Daher funktioniert `! cd XXX` nicht, da zwar in das Verzeichnis _XXX_ gewechselt, die Shell aber direkt wieder geschlossen wird.\n",
    "\n",
    "- `%` beeinflusst den mit dem Notebook verbundenen Prozess, also das Notebook selbst. `%cd XXX` ändert daher das aktuelle Verzeichnis des Notebook-Prozesses. ACHTUNG: keine Leerzeichen nach `%`\n",
    "\n",
    "- Meisten wollen Sie `!`anwenden! Bei `cd` aber `%`.\n",
    "\n",
    "- So lange nach der Ausführung eines Befehls vor der Zeile noch ein `*` (__In[*]__) und keine Zeilennummer steht, ist der Befehl noch nicht abgeschlossen.\n",
    "\n",
    "- <span style=\"color:red\">Achtung: Ihre Ergebnisse können von meinen abweichen, da die Daten ständig aktualisiert werden.</span>"
   ]
  },
  {
   "cell_type": "markdown",
   "metadata": {},
   "source": [
    "---"
   ]
  },
  {
   "attachments": {},
   "cell_type": "markdown",
   "metadata": {},
   "source": [
    "# Download des Referenzgenoms\n",
    "\n",
    "Das Referenzgenom für SARS-CoV-2 wurde im Dezember 2019 in Wuhan isoliert und sequenziert. \n",
    "\n",
    "- Gehen Sie zur NCBI Webseite: https://www.ncbi.nlm.nih.gov/sars-cov-2/.\n",
    "\n",
    "- Klicken Sie im Abschnitt _Genome Reference Sequence (NC_045512)_ auf __View Record__ weiter unten.\n",
    "\n",
    "- Klicken Sie in dem neuen Fenster oben auf __Send to__ und wählen Sie dort \n",
    "  - _Complete Record_\n",
    "  - Destination _file_\n",
    "  - Format _fasta_\n",
    "  \n",
    "- Speichern Sie die Datei als _NC_045512.2.fasta_ in Ihr Arbeitsverzeichnis _SARS-CoV-2_.\n",
    "  \n",
    "- Klicken Sie nochmal auf __Send to__ und wählen Sie jetzt als Format\n",
    "  - _GFF3_\n",
    "\n",
    "- Speichern Sie die Datei als _NC_045512.2.gff3_ in Ihr Arbeitsverzeichnis _SARS-CoV-2_."
   ]
  },
  {
   "cell_type": "markdown",
   "metadata": {},
   "source": [
    "# Download der Virusgenome\n",
    "\n",
    "- Gehen Sie zur NCBI Webseite: https://www.ncbi.nlm.nih.gov/sars-cov-2/.\n",
    "\n",
    "- Klicken Sie im Abschnitt _Explore the Data_ auf __Explore in NCBI Virus__ weiter unten.\n",
    "\n",
    "- NC_045512 ist das Referenzgenom mit 29.903 Nukleotiden.\n",
    "\n",
    "- Filtern Sie die Tabelle nach _completeness_ und _length = 29903_ Nukleotide. Mit Stand vom 01/02/21 werden 1.152 Sequenzen ausgewählt.\n",
    "\n",
    "- Klicken Sie _Download_, select _Nucleotide FASTA_, select _All Records_, select _Build custom_ und wählen Sie hier nur den Eintrag _Accession_\n",
    "\n",
    "- Verschieben Sie heruntergeladene Datei in Ihr Arbeitsverzeichnis _SARS-CoV-2_ und benennen Sie die Datei in _cov2-len-29903.fasta_ um\n",
    "\n",
    "| ![Reference Sequence](Images/refseq.png)\n",
    "|:---\n",
    "| Download von NCBI Genbank"
   ]
  },
  {
   "cell_type": "code",
   "execution_count": 131,
   "metadata": {},
   "outputs": [
    {
     "name": "stdout",
     "output_type": "stream",
     "text": [
      "/Users/rw/Playgound/Jupyter/SARS-CoV-2/BWA\r\n"
     ]
    }
   ],
   "source": [
    "! pwd"
   ]
  },
  {
   "cell_type": "markdown",
   "metadata": {},
   "source": [
    "- zählen Sie die Anzahl der enthaltenden Sequenzen:"
   ]
  },
  {
   "cell_type": "code",
   "execution_count": 132,
   "metadata": {},
   "outputs": [
    {
     "name": "stdout",
     "output_type": "stream",
     "text": [
      "1151\r\n"
     ]
    }
   ],
   "source": [
    "! grep -c \">\" cov2-len-29903.fasta"
   ]
  },
  {
   "cell_type": "markdown",
   "metadata": {},
   "source": [
    "---"
   ]
  },
  {
   "cell_type": "markdown",
   "metadata": {},
   "source": [
    "# Suche nach Mutationen mit AWK\n",
    "\n",
    "Mit Hilfe von AWK können wir die Genome direkt bearbeiten. Dazu brauchen Sie die zwei Scripte _compare-cov2.awk_ und _fasta2tbl_ von meiner __GitHub__ Seite: https://github.com/awkologist/SARS-CoV-2. Diese können Sie direkt mit `wget` herunterladen:"
   ]
  },
  {
   "cell_type": "code",
   "execution_count": 94,
   "metadata": {
    "scrolled": true
   },
   "outputs": [
    {
     "name": "stdout",
     "output_type": "stream",
     "text": [
      "--2021-01-30 21:04:08--  https://raw.githubusercontent.com/awkologist/SARS-CoV-2/main/fasta2tbl\n",
      "Resolving raw.githubusercontent.com... 151.101.12.133\n",
      "Connecting to raw.githubusercontent.com|151.101.12.133|:443... connected.\n",
      "HTTP request sent, awaiting response... 200 OK\n",
      "Length: 299 [text/plain]\n",
      "Saving to: 'fasta2tbl'\n",
      "\n",
      "fasta2tbl           100%[===================>]     299  --.-KB/s    in 0s      \n",
      "\n",
      "2021-01-30 21:04:08 (14.3 MB/s) - 'fasta2tbl' saved [299/299]\n",
      "\n"
     ]
    }
   ],
   "source": [
    "! wget 'https://raw.githubusercontent.com/awkologist/SARS-CoV-2/main/fasta2tbl'"
   ]
  },
  {
   "cell_type": "code",
   "execution_count": 95,
   "metadata": {},
   "outputs": [
    {
     "name": "stdout",
     "output_type": "stream",
     "text": [
      "--2021-02-01 08:39:00--  https://raw.githubusercontent.com/awkologist/SARS-CoV-2/main/compare-cov2.awk\n",
      "Resolving raw.githubusercontent.com... 151.101.112.133\n",
      "Connecting to raw.githubusercontent.com|151.101.112.133|:443... connected.\n",
      "HTTP request sent, awaiting response... 200 OK\n",
      "Length: 2727 (2.7K) [text/plain]\n",
      "Saving to: 'compare-cov2.awk'\n",
      "\n",
      "compare-cov2.awk    100%[===================>]   2.66K  --.-KB/s    in 0.001s  \n",
      "\n",
      "2021-02-01 08:39:01 (2.24 MB/s) - 'compare-cov2.awk' saved [2727/2727]\n",
      "\n"
     ]
    }
   ],
   "source": [
    "! wget 'https://raw.githubusercontent.com/awkologist/SARS-CoV-2/main/compare-cov2.awk'"
   ]
  },
  {
   "cell_type": "markdown",
   "metadata": {},
   "source": [
    "- Da AWK Dateien zeilenweise liest und jede Zeile in Felder zerlegt, ist das FASTA-Format nicht gut für die Datenanalyse mit AWK geeignet. Mit den Script _fasta2tbl_ wandeln wir daher das FASTA- in das TAB-Format, also mit Tabulatoren als Separatoren."
   ]
  },
  {
   "cell_type": "code",
   "execution_count": 110,
   "metadata": {},
   "outputs": [],
   "source": [
    "! ./fasta2tbl cov2-len-29903.fasta > cov2-len-29903.tab"
   ]
  },
  {
   "cell_type": "markdown",
   "metadata": {},
   "source": [
    "- Upps. Wir müssen das Script erst ausführbar machen:"
   ]
  },
  {
   "cell_type": "code",
   "execution_count": 98,
   "metadata": {},
   "outputs": [
    {
     "name": "stdout",
     "output_type": "stream",
     "text": [
      "-rw-r--r--  1 rw  staff  299 Jan 30 21:04 fasta2tbl\r\n"
     ]
    }
   ],
   "source": [
    "! ls -l fasta2tbl"
   ]
  },
  {
   "cell_type": "code",
   "execution_count": 100,
   "metadata": {},
   "outputs": [],
   "source": [
    "! chmod u+x fasta2tbl"
   ]
  },
  {
   "cell_type": "code",
   "execution_count": 101,
   "metadata": {},
   "outputs": [
    {
     "name": "stdout",
     "output_type": "stream",
     "text": [
      "-rwxr--r--  1 rw  staff  299 Jan 30 21:04 \u001b[31mfasta2tbl\u001b[m\u001b[m\r\n"
     ]
    }
   ],
   "source": [
    "! ls -l fasta2tbl"
   ]
  },
  {
   "cell_type": "code",
   "execution_count": 105,
   "metadata": {},
   "outputs": [],
   "source": [
    "! ./fasta2tbl cov2-len-29903.fasta > cov2-len-29903.tab"
   ]
  },
  {
   "cell_type": "markdown",
   "metadata": {},
   "source": [
    "- Jetzt müssen wir noch die Metadaten ins TAB-Format bringen. Diese verwenden wir später im Script _compare-cov2.awk_. Die drei Felder ID, Ort und Datum sind in _cov2-len-29903.csv_ durch Kommata getrennt.\n",
    "\n",
    "- Es gibt dort aber problematische Zeilen wie _MW276480,\"USA: CA, Marin County\",2020-08-26_ und _MW011767,\"China: Hunan,Shaoyang\",2020-01-29_ -> hier ist jeweils ein Komma in der Ortsbezeichnung, mal mit mal ohne nachfolgendem Leerzeichen. Und die Anführungszeichen wollen wir auch löschen. \n",
    "\n",
    "| ![Virus DB](Images/ncbi-virus.png)\n",
    "|:---\n",
    "| Die Metadaten in _Vim_\n",
    "\n",
    "- Wir können das elegant mit _Vim_ lösen oder folgendem Einzeiler, der auch gleich den Header löscht:"
   ]
  },
  {
   "cell_type": "code",
   "execution_count": 133,
   "metadata": {},
   "outputs": [
    {
     "name": "stdout",
     "output_type": "stream",
     "text": [
      "MW276480,\"USA: CA, Marin County\",2020-08-26\r\n",
      "MW011767,\"China: Hunan,Shaoyang\",2020-01-29\r\n"
     ]
    }
   ],
   "source": [
    "! egrep '(MW276480|MW011767)' cov2-len-29903.csv"
   ]
  },
  {
   "cell_type": "code",
   "execution_count": 134,
   "metadata": {},
   "outputs": [],
   "source": [
    "! sed -E -e '1d' -e 's/\"(.*), ?(.*)\"/\\1_\\2/' -e 's/,/\\t/g' cov2-len-29903.csv > cov2-len-29903.metadata.tab"
   ]
  },
  {
   "cell_type": "code",
   "execution_count": 135,
   "metadata": {},
   "outputs": [
    {
     "name": "stdout",
     "output_type": "stream",
     "text": [
      "MW276480\tUSA: CA_Marin County\t2020-08-26\r\n",
      "MW011767\tChina: Hunan_Shaoyang\t2020-01-29\r\n"
     ]
    }
   ],
   "source": [
    "! egrep '(MW276480|MW011767)' cov2-len-29903.metadata.tab"
   ]
  },
  {
   "cell_type": "markdown",
   "metadata": {},
   "source": [
    "- suchen wir zunächst Sequenzen aus Deutschland"
   ]
  },
  {
   "cell_type": "code",
   "execution_count": 137,
   "metadata": {},
   "outputs": [
    {
     "name": "stdout",
     "output_type": "stream",
     "text": [
      "MT358638\tGermany\t2020-02\r\n",
      "MT358639\tGermany\t2020-02\r\n",
      "MT358640\tGermany\t2020-02\r\n",
      "MT358641\tGermany\t2020-02\r\n",
      "MT358642\tGermany\t2020-02\r\n",
      "MT358643\tGermany\t2020-02\r\n"
     ]
    }
   ],
   "source": [
    "! egrep 'Germany' cov2-len-29903.metadata.tab"
   ]
  },
  {
   "cell_type": "markdown",
   "metadata": {},
   "source": [
    "- Spielen wir nun mit dem AWK-Skript um zunächst zwei Virengenome zu vergleichen:"
   ]
  },
  {
   "cell_type": "code",
   "execution_count": 138,
   "metadata": {},
   "outputs": [
    {
     "name": "stdout",
     "output_type": "stream",
     "text": [
      "  Run as:\r\n",
      "    awk -f compare-cov2.awk -v seq=seqs.tab -v anno=annos.tab -v id1=ID1 -v id2=ID2\r\n",
      "  where seqs.tab is the sequence file in tab format and\r\n",
      "        annos.tab is the annotation file in tab format.\r\n",
      "  If -v id1=... is omitted, the reference genome ID NC_045512.2 will be used.\r\n"
     ]
    }
   ],
   "source": [
    "! awk -f compare-cov2.awk"
   ]
  },
  {
   "cell_type": "code",
   "execution_count": 139,
   "metadata": {},
   "outputs": [
    {
     "name": "stdout",
     "output_type": "stream",
     "text": [
      "# NC_045512.2 > MT358638.1 | 2019-12 > 2020-02 | China > Germany\r\n",
      "MT358638.1 3518: G>T \r\n",
      "MT358638.1 12704: G>T \r\n",
      "MT358638.1 12797: G>A \r\n",
      "MT358638.1 17423: A>G \r\n",
      "MT358638.1 27272: T>C \r\n",
      "MT358638.1 28854: C>T \r\n",
      "# of N's: 0 of 29903\r\n",
      "# of exchanges: 6 of 29903\r\n"
     ]
    }
   ],
   "source": [
    "! awk -f compare-cov2.awk -v seq=cov2-len-29903.tab -v anno=cov2-len-29903.metadata.tab -v id2=MT358638"
   ]
  },
  {
   "cell_type": "markdown",
   "metadata": {},
   "source": [
    "- jetzt vergleichen wir alle deutschen Genome gegen Wuhan 1"
   ]
  },
  {
   "cell_type": "code",
   "execution_count": 158,
   "metadata": {},
   "outputs": [
    {
     "name": "stdout",
     "output_type": "stream",
     "text": [
      "# NC_045512.2 > MT358638.1 | 2019-12 > 2020-02 | China > Germany\n",
      "MT358638.1 3518: G>T \n",
      "MT358638.1 12704: G>T \n",
      "MT358638.1 12797: G>A \n",
      "MT358638.1 17423: A>G \n",
      "MT358638.1 27272: T>C \n",
      "MT358638.1 28854: C>T \n",
      "# of N's: 0 of 29903\n",
      "# of exchanges: 6 of 29903\n",
      "----\n",
      "# NC_045512.2 > MT358639.1 | 2019-12 > 2020-02 | China > Germany\n",
      "MT358639.1 241: C>T \n",
      "MT358639.1 3037: C>T \n",
      "MT358639.1 14408: C>T \n",
      "MT358639.1 23403: A>G SPIKE NT:1841 AA:614 -> D\n",
      "MT358639.1 28881: G>A \n",
      "MT358639.1 28882: G>A \n",
      "MT358639.1 28883: G>C \n",
      "# of N's: 0 of 29903\n",
      "# of exchanges: 7 of 29903\n",
      "----\n",
      "# NC_045512.2 > MT358640.1 | 2019-12 > 2020-02 | China > Germany\n",
      "MT358640.1 241: C>T \n",
      "MT358640.1 3037: C>T \n",
      "MT358640.1 6228: A>G \n",
      "MT358640.1 14408: C>T \n",
      "MT358640.1 16289: C>Y \n",
      "MT358640.1 23403: A>G SPIKE NT:1841 AA:614 -> D\n",
      "MT358640.1 28881: G>A \n",
      "MT358640.1 28882: G>A \n",
      "MT358640.1 28883: G>C \n",
      "MT358640.1 28961: C>T \n",
      "MT358640.1 29870: C>M \n",
      "# of N's: 0 of 29903\n",
      "# of exchanges: 11 of 29903\n",
      "----\n",
      "# NC_045512.2 > MT358641.1 | 2019-12 > 2020-02 | China > Germany\n",
      "MT358641.1 1440: G>A \n",
      "MT358641.1 2891: G>A \n",
      "MT358641.1 23235: A>G SPIKE NT:1673 AA:558 -> K\n",
      "# of N's: 0 of 29903\n",
      "# of exchanges: 3 of 29903\n",
      "----\n",
      "# NC_045512.2 > MT358642.1 | 2019-12 > 2020-02 | China > Germany\n",
      "MT358642.1 241: C>T \n",
      "MT358642.1 3037: C>T \n",
      "MT358642.1 6228: A>G \n",
      "MT358642.1 14408: C>T \n",
      "MT358642.1 23403: A>G SPIKE NT:1841 AA:614 -> D\n",
      "MT358642.1 28881: G>A \n",
      "MT358642.1 28882: G>A \n",
      "MT358642.1 28883: G>C \n",
      "MT358642.1 29870: C>M \n",
      "# of N's: 0 of 29903\n",
      "# of exchanges: 9 of 29903\n",
      "----\n",
      "# NC_045512.2 > MT358643.1 | 2019-12 > 2020-02 | China > Germany\n",
      "MT358643.1 241: C>T \n",
      "MT358643.1 3037: C>T \n",
      "MT358643.1 14408: C>T \n",
      "MT358643.1 15324: C>T \n",
      "MT358643.1 23179: C>Y SPIKE NT:1617 AA:540 -> N RBDomain\n",
      "MT358643.1 23403: A>G SPIKE NT:1841 AA:614 -> D\n",
      "# of N's: 0 of 29903\n",
      "# of exchanges: 6 of 29903\n",
      "----\n"
     ]
    }
   ],
   "source": [
    "! for i in MT358638 MT358639 MT358640 MT358641 MT358642 MT358643; do awk -f compare-cov2.awk -v seq=cov2-len-29903.tab -v anno=cov2-len-29903.metadata.tab -v id2=$i; echo \"----\"; done"
   ]
  },
  {
   "cell_type": "markdown",
   "metadata": {},
   "source": [
    "- Wir sehen, dass die betroffenen Aminosäuren im Spike-Protein und ggf. in der _receptor binding domain_ (RBDomain) oder im _receptor binding motif_ (RBMotif)\n",
    "\n",
    "- Mutationen im _receptor binding motif_ haben die größte Wahrscheinlichkeit, zu einer Veränderung der Infektiosität zuführen. Also, analysieren wir nun alle Sequenzen. Dabei erstellt uns der AWK-Befehl in `$()` die Liste. Achtung, die Ausführung dauert ein Minütchen oder zwei."
   ]
  },
  {
   "cell_type": "code",
   "execution_count": 159,
   "metadata": {},
   "outputs": [],
   "source": [
    "! for i in $(awk '{print $1}' cov2-len-29903.metadata.tab); do awk -f compare-cov2.awk -v seq=cov2-len-29903.tab -v anno=cov2-len-29903.metadata.tab -v id2=$i; echo \"# ----\"; done > result.txt"
   ]
  },
  {
   "cell_type": "markdown",
   "metadata": {},
   "source": [
    "- jetzt extrahieren wir alle _receptor binding motif_ Mutationen"
   ]
  },
  {
   "cell_type": "code",
   "execution_count": 160,
   "metadata": {
    "scrolled": true
   },
   "outputs": [
    {
     "name": "stdout",
     "output_type": "stream",
     "text": [
      "MW493859.1 23010: T>C SPIKE NT:1448 AA:483 -> V RBDomain RBMotif\r\n",
      "MW494311.1 23010: T>C SPIKE NT:1448 AA:483 -> V RBDomain RBMotif\r\n",
      "MW482861.1 22920: A>T SPIKE NT:1358 AA:453 -> Y RBDomain RBMotif\r\n",
      "MW467420.1 23081: C>T SPIKE NT:1519 AA:507 -> P RBDomain RBMotif\r\n",
      "MW467456.1 23064: A>C SPIKE NT:1502 AA:501 -> N RBDomain RBMotif\r\n",
      "MW467497.1 22916: C>A SPIKE NT:1354 AA:452 -> L RBDomain RBMotif\r\n",
      "MW454554.1 22998: C>T SPIKE NT:1436 AA:479 -> P RBDomain RBMotif\r\n",
      "MW454555.1 22998: C>T SPIKE NT:1436 AA:479 -> P RBDomain RBMotif\r\n",
      "MW454557.1 22998: C>T SPIKE NT:1436 AA:479 -> P RBDomain RBMotif\r\n",
      "MW454558.1 22998: C>T SPIKE NT:1436 AA:479 -> P RBDomain RBMotif\r\n",
      "MW454562.1 23064: A>C SPIKE NT:1502 AA:501 -> N RBDomain RBMotif\r\n",
      "MW454603.1 23064: A>C SPIKE NT:1502 AA:501 -> N RBDomain RBMotif\r\n",
      "MW454683.1 23064: A>C SPIKE NT:1502 AA:501 -> N RBDomain RBMotif\r\n",
      "MW454710.1 23064: A>C SPIKE NT:1502 AA:501 -> N RBDomain RBMotif\r\n",
      "MW454757.1 23064: A>C SPIKE NT:1502 AA:501 -> N RBDomain RBMotif\r\n",
      "MW449290.1 23036: T>C SPIKE NT:1474 AA:492 -> L RBDomain RBMotif\r\n",
      "MW449467.1 23036: T>C SPIKE NT:1474 AA:492 -> L RBDomain RBMotif\r\n",
      "MW424892.1 23012: G>C SPIKE NT:1450 AA:484 -> E RBDomain RBMotif\r\n",
      "MW302336.1 22992: G>A SPIKE NT:1430 AA:477 -> S RBDomain RBMotif\r\n",
      "MW276196.1 23020: T>C SPIKE NT:1458 AA:487 -> N RBDomain RBMotif\r\n",
      "MW276211.1 23042: T>C SPIKE NT:1480 AA:494 -> S RBDomain RBMotif\r\n",
      "MW181565.1 22920: A>T SPIKE NT:1358 AA:453 -> Y RBDomain RBMotif\r\n",
      "MW049006.1 23069: G>T SPIKE NT:1507 AA:503 -> V RBDomain RBMotif\r\n",
      "MT873131.1 23030: T>G SPIKE NT:1468 AA:490 -> F RBDomain RBMotif\r\n",
      "MT873338.1 22995: C>A SPIKE NT:1433 AA:478 -> T RBDomain RBMotif\r\n",
      "MT876598.1 22894: G>A SPIKE NT:1332 AA:445 -> V RBDomain RBMotif\r\n",
      "MT847221.1 22912: T>C SPIKE NT:1350 AA:451 -> Y RBDomain RBMotif\r\n",
      "MT664106.1 23029: C>T SPIKE NT:1467 AA:490 -> F RBDomain RBMotif\r\n",
      "MT664109.1 23029: C>T SPIKE NT:1467 AA:490 -> F RBDomain RBMotif\r\n"
     ]
    }
   ],
   "source": [
    "! egrep 'Motif' result.txt"
   ]
  },
  {
   "cell_type": "markdown",
   "metadata": {},
   "source": [
    "- Wie unterscheidet sich die Häufigkeit der Mutationen an verschiedenen Positionen?"
   ]
  },
  {
   "cell_type": "code",
   "execution_count": 161,
   "metadata": {},
   "outputs": [
    {
     "name": "stdout",
     "output_type": "stream",
     "text": [
      " 999 23403:\r\n",
      " 998 241:\r\n",
      " 987 3037:\r\n",
      " 984 14408:\r\n",
      " 559 25563:\r\n"
     ]
    }
   ],
   "source": [
    "! awk '$1 !~ /^#/{print $2}' result.txt | sort | uniq -c | sort -r | head -5"
   ]
  },
  {
   "cell_type": "markdown",
   "metadata": {},
   "source": [
    "- Welche Nukleotidaustausche sind am häufigsten?"
   ]
  },
  {
   "cell_type": "code",
   "execution_count": 162,
   "metadata": {},
   "outputs": [
    {
     "name": "stdout",
     "output_type": "stream",
     "text": [
      "6617 C>T\r\n",
      "1665 G>T\r\n",
      "1518 A>G\r\n",
      " 998 G>A\r\n",
      " 557 T>C\r\n"
     ]
    }
   ],
   "source": [
    "! awk '$1 !~ /^#/{print $3}' result.txt | sort | uniq -c | sort -r | head -5"
   ]
  },
  {
   "cell_type": "markdown",
   "metadata": {},
   "source": [
    "- Und welche betreffen am häufigsten die RBD?"
   ]
  },
  {
   "cell_type": "code",
   "execution_count": 163,
   "metadata": {},
   "outputs": [
    {
     "name": "stdout",
     "output_type": "stream",
     "text": [
      "   6 23064:_AA:501_RBDomain_RBMotif\r\n",
      "   4 23127:_AA:522_RBDomain_\r\n",
      "   4 23122:_AA:521_RBDomain_\r\n",
      "   4 22998:_AA:479_RBDomain_RBMotif\r\n",
      "   3 23120:_AA:520_RBDomain_\r\n"
     ]
    }
   ],
   "source": [
    "! awk '$1 !~ /^#/ && $9 == \"RBDomain\"{print $2\"_\"$6\"_\"$9\"_\"$10}' result.txt | sort | uniq -c | sort -r | head -5"
   ]
  },
  {
   "cell_type": "markdown",
   "metadata": {},
   "source": [
    "Ein nächster interessanter Schritt wäre die Projektion dieser Daten auf die 3D-Struktur des Proteins. Das freiverfügbare Programm Jmol können Sie direkt runterladen:"
   ]
  },
  {
   "cell_type": "code",
   "execution_count": null,
   "metadata": {},
   "outputs": [],
   "source": [
    "! wget 'https://sourceforge.net/projects/jmol/files/Jmol/Version%2014.31/Jmol%2014.31.29/Jmol-14.31.29-full.tar.gz'"
   ]
  },
  {
   "cell_type": "code",
   "execution_count": 156,
   "metadata": {},
   "outputs": [],
   "source": [
    "! tar -xf Jmol-14.31.29-full.tar.gz jmol-14.31.29"
   ]
  },
  {
   "cell_type": "markdown",
   "metadata": {},
   "source": [
    "- Sie können folgende Befehle in eine Textdatei _7DF4.script_schreiben und direkt mit Jmol ausführen als `./jmol-14.31.29/jmol.sh -s 7DF4.script &` ausführen\n",
    "\n",
    "```\n",
    "load =7DF4\n",
    "spacefill off; wireframe off\n",
    "cartoon\n",
    "select :A; color lightgray # ACE2\n",
    "select :C; color gray # Spike 2\n",
    "select :D; color darkgray # Spike 3\n",
    "select :B; color lightblue # Spike 1\n",
    "select 319-541:B; color blue # RBDomain\n",
    "select 437-508:B; color red # RBMotif\n",
    "select 501:B,522:B,521:B,479:B,520:B # Mutations\n",
    "spacefill 30\n",
    "color yellow\n",
    "```\n"
   ]
  },
  {
   "cell_type": "markdown",
   "metadata": {},
   "source": [
    "| ![Virus DB](Images/spike.png)\n",
    "|:---\n",
    "| Das Spikeprotein (hellblau) mit der RBD in blau und dem RBMotif in rot. Violett ist der ACE2-Rezeptor dargestellt. Gelb und hervorgehoben die genetischen Varianten.\n",
    "(PDB 7DF4; DOI 10.1126/sciadv.abe5575)"
   ]
  },
  {
   "cell_type": "markdown",
   "metadata": {},
   "source": [
    "---"
   ]
  },
  {
   "cell_type": "markdown",
   "metadata": {},
   "source": [
    "# Suche nach Mutationen mit BWA, SAM und BCF"
   ]
  },
  {
   "cell_type": "markdown",
   "metadata": {},
   "source": [
    "Dieses Vorgehen ist für __fortgeschrittene__ Nutzer von Linux und erfolgert die __Installation__ mehrerer Software Tools. Allerdings ist diese Pipeline angelehnt an die Analyse von Sequenzdaten und die Suche nach SNPs und daher universeller einsetzbar. Sie brauchen aber eine Linuxumgebung mit Administratorrechten. Ich verwende dafür die im Mastermodul installierte __virtuelle Maschine mit Ubuntu__. \n",
    "\n",
    "Alternativ können Sie mit _Cygwin_ (https://www.cygwin.com) oder der _Ubuntu Emulator_ für Windows 10 (https://ubuntu.com/tutorials/ubuntu-on-windows#1-overview) verwendet werden.\n",
    "\n",
    "\n",
    "\n",
    "- Als erstes Alignieren wir die SARS-CoV-2 Genome mit __BWA__ mit dem Referenzgenom. Dazu müssen wir einen Index erstellen, damit das Programm BWA auf die Daten zugreifen kann. Dabei werden einige Dateien erstellt."
   ]
  },
  {
   "cell_type": "code",
   "execution_count": 145,
   "metadata": {},
   "outputs": [
    {
     "name": "stdout",
     "output_type": "stream",
     "text": [
      "[bwa_index] Pack FASTA... 0.00 sec\n",
      "[bwa_index] Construct BWT for the packed sequence...\n",
      "[bwa_index] 0.01 seconds elapse.\n",
      "[bwa_index] Update BWT... 0.00 sec\n",
      "[bwa_index] Pack forward-only FASTA... 0.00 sec\n",
      "[bwa_index] Construct SA from BWT and Occ... 0.00 sec\n",
      "[main] Version: 0.7.17-r1188\n",
      "[main] CMD: bwa index NC_045512.2.fasta\n",
      "[main] Real time: 0.063 sec; CPU: 0.022 sec\n"
     ]
    }
   ],
   "source": [
    "! bwa index NC_045512.2.fasta"
   ]
  },
  {
   "cell_type": "markdown",
   "metadata": {},
   "source": [
    "- dann folgt das eigentliche Alignment"
   ]
  },
  {
   "cell_type": "code",
   "execution_count": 146,
   "metadata": {},
   "outputs": [
    {
     "name": "stdout",
     "output_type": "stream",
     "text": [
      "[M::bwa_idx_load_from_disk] read 0 ALT contigs\n",
      "[M::process] read 336 sequences (10047408 bp)...\n",
      "[M::process] read 336 sequences (10047408 bp)...\n",
      "[M::mem_process_seqs] Processed 336 reads in 6.702 CPU sec, 6.688 real sec\n",
      "[M::process] read 336 sequences (10047408 bp)...\n",
      "[M::mem_process_seqs] Processed 336 reads in 7.182 CPU sec, 7.163 real sec\n",
      "[M::process] read 143 sequences (4276129 bp)...\n",
      "[M::mem_process_seqs] Processed 336 reads in 6.586 CPU sec, 6.570 real sec\n",
      "[M::mem_process_seqs] Processed 143 reads in 2.335 CPU sec, 2.325 real sec\n",
      "[main] Version: 0.7.17-r1188\n",
      "[main] CMD: bwa mem NC_045512.2.fasta cov2-len-29903.fasta\n",
      "[main] Real time: 22.774 sec; CPU: 22.832 sec\n"
     ]
    }
   ],
   "source": [
    "! bwa mem NC_045512.2.fasta cov2-len-29903.fasta > alignment.sam"
   ]
  },
  {
   "cell_type": "markdown",
   "metadata": {},
   "source": [
    "- Jetzt muss die SAM-Datei mit __SamTools__ in eine binäre BAM-Datei umgewandelt werden. Die Option `-b` besagt, das die Ausgabe im BAM-Format sein soll."
   ]
  },
  {
   "cell_type": "code",
   "execution_count": 147,
   "metadata": {},
   "outputs": [],
   "source": [
    "! samtools view -b alignment.sam > alignment.sam.bam"
   ]
  },
  {
   "cell_type": "markdown",
   "metadata": {},
   "source": [
    "- jetzt folgt ein Sortierschritt für den schnelleren Datenzugriff"
   ]
  },
  {
   "cell_type": "code",
   "execution_count": 148,
   "metadata": {},
   "outputs": [],
   "source": [
    "! samtools sort alignment.sam.bam > alignment.sam.sorted.bam"
   ]
  },
  {
   "cell_type": "markdown",
   "metadata": {},
   "source": [
    "- es folgen eine Indexierung des Referenzgenoms (`faidx`) und die Suche nach Sequenzunterschieden (`mpileup`) mit __SamTools__ und die Erstellung einer Datei im VCF-Format (_variant calling format_) mit __BcfTools__ (`view`)"
   ]
  },
  {
   "cell_type": "code",
   "execution_count": 149,
   "metadata": {},
   "outputs": [],
   "source": [
    "! samtools faidx NC_045512.2.fasta"
   ]
  },
  {
   "cell_type": "code",
   "execution_count": 150,
   "metadata": {},
   "outputs": [
    {
     "name": "stdout",
     "output_type": "stream",
     "text": [
      "[mpileup] 1 samples in 1 input files\n",
      "[mpileup] maximum number of reads per input file set to -d 2000\n"
     ]
    }
   ],
   "source": [
    "! bcftools mpileup -d 2000 -f NC_045512.2.fasta alignment.sam.sorted.bam > alignment.bcf"
   ]
  },
  {
   "cell_type": "code",
   "execution_count": 151,
   "metadata": {},
   "outputs": [],
   "source": [
    "! bcftools call --variants-only --multiallelic-caller --ploidy 1 -o alignment.variants.vcf alignment.bcf"
   ]
  },
  {
   "cell_type": "code",
   "execution_count": 152,
   "metadata": {},
   "outputs": [
    {
     "name": "stdout",
     "output_type": "stream",
     "text": [
      "POS\tREF\tALT\tQUAL\r\n",
      "241\tC\tT\t228\r\n",
      "3037\tC\tT\t228\r\n",
      "14408\tC\tT\t228\r\n",
      "23403\tA\tG\t228\r\n"
     ]
    }
   ],
   "source": [
    "! awk '$1 !~ /^##/{OFS=\"\\t\"; print $2,$4,$5,$6}' alignment.variants.vcf"
   ]
  },
  {
   "cell_type": "markdown",
   "metadata": {},
   "source": [
    "Das Ergbnis zeigt, dass bspw. an Position 241 im Referenzgenom ein C, in den meisten anderen Genomen aber ein T vorliegt. Die Qualität _QUAL_ liegt als sogenannter Phred-Score vor. Einer Fehlerwahrscheinlichkeit E von 10% entspricht ein Quality-Score Q von 10; von 1% -> 20; von 0.1% -> 30. Es gilt E=10^(-Q/10) und Q=-10xlogE.\n",
    "\n",
    "Natürlich liefert uns diese Pipeline nur häufige SNPs, denn sie ist eigentlich für die Suche nach relevanten Mutationen (SNPs) in größeren Populationen gedacht.\n",
    "\n",
    "Im Falle von Viren, können aber auch sehr seltene Varianten schnell Verbreitung finden. Diese finden wir zum Beispiel mit der oben dargestellten AWK-Variante."
   ]
  },
  {
   "cell_type": "code",
   "execution_count": null,
   "metadata": {},
   "outputs": [],
   "source": []
  }
 ],
 "metadata": {
  "kernelspec": {
   "display_name": "Python 3",
   "language": "python",
   "name": "python3"
  },
  "language_info": {
   "codemirror_mode": {
    "name": "ipython",
    "version": 3
   },
   "file_extension": ".py",
   "mimetype": "text/x-python",
   "name": "python",
   "nbconvert_exporter": "python",
   "pygments_lexer": "ipython3",
   "version": "3.6.10"
  }
 },
 "nbformat": 4,
 "nbformat_minor": 4
}
