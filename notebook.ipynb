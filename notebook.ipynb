{
 "cells": [
  {
   "cell_type": "markdown",
   "metadata": {},
   "source": [
    "# Sequenzvariationen von SARS-CoV-2 Viren\n",
    "\n",
    "## Über dieses Notebook\n",
    "\n",
    "Dieses Notebook begleitet meine Module *Angewandte Bioinformatik* und *Biodatenprozessierung* an der Hochschule Mittweida. Wenn Sie *Jupyter* installiert haben, können Sie dieses *JupyterNotebook* herunterladen und nutzen. Ansonsten kopieren Sie die Befehle einfach in Ihren Terminal. In jedem Fall brauchen Sie ein Linux-System – echt oder emuliert.\n",
    "\n",
    "Mit den Skripten in diesem Notebook werden wir die **Sequenzvariationen von SARS-CoV-2 Viren** analysieren. Die Analyse ist dahingehend vereinfacht, dass wir nur Genome einer bestimmten Länge untersuchen, die beim NCBI hinterlegt sind.\n",
    "\n",
    "Have a lot of fun ...\n",
    "\n",
    "## Technische Information\n",
    "\n",
    "- Befehle werden ausgeführt, indem Sie Shift+Enter drücken.\n",
    "\n",
    "- So lange nach der Ausführung eines Befehls vor der Zeile noch ein Stern (**`In[*]`**) und keine Zeilennummer steht, ist der Befehl noch nicht abgeschlossen.\n",
    "\n",
    "- <span style=\"color:red\">Achtung: Ihre Ergebnisse können von meinen abweichen, da die Daten ständig aktualisiert werden.</span>"
   ]
  },
  {
   "cell_type": "markdown",
   "metadata": {},
   "source": [
    "---"
   ]
  },
  {
   "attachments": {},
   "cell_type": "markdown",
   "metadata": {},
   "source": [
    "## Download des Referenzgenoms\n",
    "\n",
    "- Gehen Sie zur NCBI Webseite: https://www.ncbi.nlm.nih.gov/sars-cov-2/.\n",
    "\n",
    "- Das Referenzgenom mit der ID **NC_045512** (RefSeq) ist gleich oben in der sich öffnenden Liste.\n",
    "\n",
    "- Setzen Sie das Häckchen links neben der ID NC_045512 und klicken Sie oben auf der Seite auf **Download**.\n",
    "\n",
    "- Wählen Sie im sich öffnenden Fenster: \n",
    "\n",
    "  - 1/3) FASTA Nucleotide\n",
    "  - 2/3) Download Selected Records \n",
    "  - 3/3) Build Custom: Select _Accession_, _Geo Location_ and _Collection Date_\n",
    "\n",
    "- Jetzt sollten Sie die FASTA-Datei auf Ihrem Rechner haben.\n",
    "\n",
    "| ![Virus DB](Images/ncbi-virus.png)\n",
    "|:---\n",
    "| Webseite von NCBI Virus\n",
    "\n",
    "\n",
    "\n",
    "## Download weiterer Genome\n",
    "\n",
    "- Filtern Sie die Tabelle nach\n",
    "  - Sequence Length: Min = Max = 29903\n",
    "  - Nucleotide Completeness: complete\n",
    "  - Ambiguous Characters: 0\n",
    "  - Collection Date: From 01/01/2019 To 12/31/2020\n",
    "\n",
    "- Klicken Sie dann wieder oben auf **Download** (Sie brauchen nicht alle Boxen an den Sequenzen auswählen.)\n",
    "\n",
    "- Wählen Sie im sich öffnenden Fenster: \n",
    "\n",
    "  - 1/3) FASTA Nucleotide\n",
    "  - 2/3) Download a randomized subset of **10** records (20 or fewer) per category, stratified by **Country** \n",
    "  - 3/3) Build Custom: Select _Accession_, _Geo Location_ and _Collection Date_\n",
    "\n",
    "- Jetzt sollten Sie die FASTA-Datei auf Ihrem Rechner haben\n",
    "\n",
    "## Upload zu Linux\n",
    "\n",
    "\n",
    "- Verschieben Sie heruntergeladene Datei in das Verzeichnis _SARS-CoV-2_ und benennen Sie\n",
    "\n",
    "  - die Datei mit dem Referenzgenom in *NC_045512.2.fasta* um\n",
    "  \n",
    "  - die Datei mit den 200 Genomen in *cov2-len-29903.fasta* um\n",
    "  \n",
    "Zählen Sie die Anzahl der enthaltenden Sequenzen:"
   ]
  },
  {
   "cell_type": "code",
   "execution_count": null,
   "metadata": {},
   "outputs": [],
   "source": [
    "pwd"
   ]
  },
  {
   "cell_type": "code",
   "execution_count": null,
   "metadata": {},
   "outputs": [],
   "source": [
    "grep -c \">\" cov2-len-29903.fasta"
   ]
  },
  {
   "cell_type": "markdown",
   "metadata": {},
   "source": [
    "---"
   ]
  },
  {
   "cell_type": "markdown",
   "metadata": {},
   "source": [
    "## Suche nach Mutationen mit AWK\n",
    "\n",
    "### Download der Scripte\n",
    "\n",
    "Mit Hilfe von AWK können wir die Genome direkt bearbeiten. Dazu brauchen Sie die zwei Scripte *compare-cov2.awk* und *fasta2tbl* von meiner **GitHub** Seite: https://github.com/awkologist/SARS-CoV-2. Die Scripte können Sie direkt mit `wget` herunterladen:"
   ]
  },
  {
   "cell_type": "code",
   "execution_count": null,
   "metadata": {
    "scrolled": true
   },
   "outputs": [],
   "source": [
    "wget 'https://raw.githubusercontent.com/awkologist/SARS-CoV-2/main/fasta2tbl'"
   ]
  },
  {
   "cell_type": "code",
   "execution_count": null,
   "metadata": {},
   "outputs": [],
   "source": [
    "wget 'https://raw.githubusercontent.com/awkologist/SARS-CoV-2/main/compare-cov2.awk'"
   ]
  },
  {
   "cell_type": "markdown",
   "metadata": {},
   "source": [
    "### Umwandlung von FASTA zu TAB\n",
    "\n",
    "Da AWK Dateien zeilenweise liest und jede Zeile in Felder zerlegt, ist das FASTA-Format nicht gut für die Datenanalyse mit AWK geeignet. Mit den Script `fasta2tbl` wandeln wir daher das FASTA- in das TAB-Format, also mit Tabulatoren als Separatoren."
   ]
  },
  {
   "cell_type": "code",
   "execution_count": null,
   "metadata": {},
   "outputs": [],
   "source": [
    "./fasta2tbl wuhan-1.fasta > wuhan-1.tab"
   ]
  },
  {
   "cell_type": "markdown",
   "metadata": {},
   "source": [
    "- Fehlermeldung? Dann müssen wir müssen das Script erst ausführbar machen:"
   ]
  },
  {
   "cell_type": "code",
   "execution_count": null,
   "metadata": {},
   "outputs": [],
   "source": [
    "ls -l fasta2tbl"
   ]
  },
  {
   "cell_type": "code",
   "execution_count": null,
   "metadata": {},
   "outputs": [],
   "source": [
    "chmod u+x fasta2tbl"
   ]
  },
  {
   "cell_type": "code",
   "execution_count": null,
   "metadata": {},
   "outputs": [],
   "source": [
    "ls -l fasta2tbl"
   ]
  },
  {
   "cell_type": "code",
   "execution_count": null,
   "metadata": {},
   "outputs": [],
   "source": [
    "./fasta2tbl cov2-len-29903.fasta > cov2-len-29903.tab"
   ]
  },
  {
   "cell_type": "code",
   "execution_count": null,
   "metadata": {},
   "outputs": [],
   "source": [
    "awk '{print $1}' wuhan-1.tab"
   ]
  },
  {
   "cell_type": "markdown",
   "metadata": {},
   "source": [
    "### Metadaten aus FASTA als TAB Datei\n",
    "\n",
    "Jetzt müssen wir noch die Metadaten ins TAB-Format bringen. Diese verwenden wir später im Script `compare-cov2.awk`. Die drei Felder ID, Ort und Datum sind in *cov2-len-29903.fasta* in der *description line* (beginnt mit `>`) durch den *vertical bar* (`|`) getrennt.\n",
    "\n",
    "Es gibt dort aber problematische Zeilen wie _MW276480,\"USA: CA, Marin County\",2020-08-26_ und _MW011767,\"China: Hunan,Shaoyang\",2020-01-29_ -> hier ist jeweils ein Komma in der Ortsbezeichnung, mal mit mal ohne nachfolgendem Leerzeichen. Und die Anführungszeichen wollen wir auch löschen. \n",
    "\n",
    "Mit folgendem AWK-Befehl können wir die Metadaten aus der FASTA-Datei extrahieren und als TAB-Datei speichern:"
   ]
  },
  {
   "cell_type": "code",
   "execution_count": null,
   "metadata": {},
   "outputs": [],
   "source": [
    "awk -F\"|\" '/>/{gsub(/>/,\"\",$1);gsub(/ /,\"_\",$2);print $1\"\\t\"$2\"\\t\"$3}' cov2-len-29903.fasta > cov2-len-29903-metadata.tab"
   ]
  },
  {
   "cell_type": "code",
   "execution_count": null,
   "metadata": {},
   "outputs": [],
   "source": [
    "head -3 cov2-len-29903-metadata.tab"
   ]
  },
  {
   "cell_type": "markdown",
   "metadata": {},
   "source": [
    "Suchen wir zunächst Sequenzen aus Deutschland:"
   ]
  },
  {
   "cell_type": "code",
   "execution_count": null,
   "metadata": {},
   "outputs": [],
   "source": [
    "egrep 'Germany' cov2-len-29903-metadata.tab"
   ]
  },
  {
   "cell_type": "markdown",
   "metadata": {},
   "source": [
    "Suchen wir jetzt die Referenz und die erste deutsche sequenzierte Probe:"
   ]
  },
  {
   "cell_type": "code",
   "execution_count": null,
   "metadata": {},
   "outputs": [],
   "source": [
    "egrep 'NC_045512|MT358638' cov2-len-29903-metadata.tab"
   ]
  },
  {
   "cell_type": "markdown",
   "metadata": {},
   "source": [
    "### Vergleich von Genomen\n",
    "Spielen wir nun mit dem AWK-Skript um zunächst zwei Virengenome zu vergleichen:"
   ]
  },
  {
   "cell_type": "code",
   "execution_count": null,
   "metadata": {},
   "outputs": [],
   "source": [
    "awk -f compare-cov2.awk"
   ]
  },
  {
   "cell_type": "code",
   "execution_count": null,
   "metadata": {},
   "outputs": [],
   "source": [
    "awk -f compare-cov2.awk -v seq=cov2-len-29903.tab -v anno=cov2-len-29903-metadata.tab -v id2=MT358638"
   ]
  },
  {
   "cell_type": "markdown",
   "metadata": {},
   "source": [
    "Jetzt vergleichen wir alle deutschen Genome gegen Wuhan 1:"
   ]
  },
  {
   "cell_type": "code",
   "execution_count": null,
   "metadata": {},
   "outputs": [],
   "source": [
    "for i in MT358638 MT358639 MT358640 MT358641 MT358642 MT358643; do awk -f compare-cov2.awk -v seq=cov2-len-29903.tab -v anno=cov2-len-29903-metadata.tab -v id2=$i; echo \"----\"; done"
   ]
  },
  {
   "cell_type": "markdown",
   "metadata": {},
   "source": [
    "### Zwischenergebnis\n",
    "Wir sehen, dass die betroffenen Aminosäuren im Spike-Protein und ggf. in der *receptor binding domain* (RBDomain) oder im *receptor binding motif* (RBMotif) liegen. Mutationen im *receptor binding motif* haben die größte Wahrscheinlichkeit, zu einer Veränderung der Infektiosität zuführen. \n",
    "\n",
    "### Detailliertere Analyse\n",
    "Analysieren wir nun alle Sequenzen. Dabei erstellt uns der AWK-Befehl in `$()` die Liste. Achtung, die Ausführung dauert je nach Rechner ein Minütchen oder zwei."
   ]
  },
  {
   "cell_type": "code",
   "execution_count": null,
   "metadata": {},
   "outputs": [],
   "source": [
    "awk '{gsub(/\\.[0-9]/,\"\",$1); print $1}' cov2-len-29903-metadata.tab | head -5"
   ]
  },
  {
   "cell_type": "code",
   "execution_count": null,
   "metadata": {},
   "outputs": [],
   "source": [
    "time for i in $(awk '{gsub(/\\.[0-9]/,\"\",$1); print $1}' cov2-len-29903-metadata.tab); do awk -f compare-cov2.awk -v seq=cov2-len-29903.tab -v anno=cov2-len-29903.metadata.tab -v id2=$i; echo \"# ----\"; done > result.txt"
   ]
  },
  {
   "cell_type": "markdown",
   "metadata": {},
   "source": [
    "Jetzt extrahieren wir alle *receptor binding motif* Mutationen:"
   ]
  },
  {
   "cell_type": "code",
   "execution_count": null,
   "metadata": {
    "scrolled": true
   },
   "outputs": [],
   "source": [
    "egrep 'Motif' result.txt"
   ]
  },
  {
   "cell_type": "markdown",
   "metadata": {},
   "source": [
    "Wie unterscheidet sich die Häufigkeit der Mutationen an verschiedenen Positionen?"
   ]
  },
  {
   "cell_type": "code",
   "execution_count": null,
   "metadata": {},
   "outputs": [],
   "source": [
    "awk '$1 !~ /^#/{print $2}' result.txt | sort | uniq -c | sort -nr | head -5"
   ]
  },
  {
   "cell_type": "markdown",
   "metadata": {},
   "source": [
    "Welche Nukleotidaustausche sind am häufigsten?"
   ]
  },
  {
   "cell_type": "code",
   "execution_count": null,
   "metadata": {},
   "outputs": [],
   "source": [
    "awk '$1 !~ /^#/{print $3}' result.txt | sort | uniq -c | sort -nr | head -5"
   ]
  },
  {
   "cell_type": "markdown",
   "metadata": {},
   "source": [
    "Und welche betreffen am häufigsten die RBD?"
   ]
  },
  {
   "cell_type": "code",
   "execution_count": null,
   "metadata": {},
   "outputs": [],
   "source": [
    "awk '$1 !~ /^#/ && $9 == \"RBDomain\"{print $2\"_\"$6\"_\"$9\"_\"$10}' result.txt | sort | uniq -c | sort -nr | head -5"
   ]
  },
  {
   "cell_type": "markdown",
   "metadata": {},
   "source": [
    "## Projektion auf 3D Struktur\n",
    "Ein nächster interessanter Schritt wäre die Projektion dieser Daten auf die 3D-Struktur des Proteins. Das freiverfügbare Programm **Jmol** können Sie direkt runterladen. Alternativ können Sie eine Browserversion verwenden.\n",
    "\n",
    "# Variante 1: Browser\n",
    "\n",
    "Gehen Sie auf https://chemapps.stolaf.edu/jmol/jsmol/jsmol.htm und öffnen Sie bei *RSCB (macromolecules)* die Struktur **7DF4**.  \n",
    "\n",
    "Öffnen Sie dann auf den Link *Concole* und führen Sie folgenden Code aus:\n",
    "\n",
    "```\n",
    "spacefill off; wireframe off\n",
    "cartoon\n",
    "select :A; color lightgray # ACE2\n",
    "select :C; color gray # Spike 2\n",
    "select :D; color darkgray # Spike 3\n",
    "select :B; color lightblue # Spike 1\n",
    "select 319-541:B; color blue # RBDomain\n",
    "select 437-508:B; color red # RBMotif\n",
    "select 501:B,522:B,521:B,479:B,520:B # Mutations\n",
    "spacefill 300\n",
    "color yellow\n",
    "```\n",
    "\n",
    "Spielen Sie ein bisschen rum.\n",
    "\n",
    "# Variante 2: Jmol installieren\n",
    "Dies geht nur auf einem Linux-System mit graphischer Oberfläche:"
   ]
  },
  {
   "cell_type": "code",
   "execution_count": null,
   "metadata": {},
   "outputs": [],
   "source": [
    "wget 'https://sourceforge.net/projects/jmol/files/Jmol/Version%2014.31/Jmol%2014.31.29/Jmol-14.31.29-full.tar.gz'"
   ]
  },
  {
   "cell_type": "code",
   "execution_count": null,
   "metadata": {},
   "outputs": [],
   "source": [
    "tar -xf Jmol-14.31.29-full.tar.gz jmol-14.31.29"
   ]
  },
  {
   "cell_type": "markdown",
   "metadata": {},
   "source": [
    "Sie können folgende Befehle in eine Textdatei _7DF4.script_schreiben und direkt mit Jmol ausführen als `./jmol-14.31.29/jmol.sh -s 7DF4.script &` ausführen\n",
    "\n",
    "```\n",
    "load =7DF4\n",
    "spacefill off; wireframe off\n",
    "cartoon\n",
    "select :A; color lightgray # ACE2\n",
    "select :C; color gray # Spike 2\n",
    "select :D; color darkgray # Spike 3\n",
    "select :B; color lightblue # Spike 1\n",
    "select 319-541:B; color blue # RBDomain\n",
    "select 437-508:B; color red # RBMotif\n",
    "select 501:B,522:B,521:B,479:B,520:B # Mutations\n",
    "spacefill 300\n",
    "color yellow\n",
    "```\n"
   ]
  },
  {
   "cell_type": "markdown",
   "metadata": {},
   "source": [
    "| ![Virus DB](Images/spike.png)\n",
    "|:---\n",
    "| Das Spikeprotein (hellblau) mit der RBD in blau und dem RBMotif in rot. Violett ist der ACE2-Rezeptor dargestellt. Gelb und hervorgehoben die genetischen Varianten.\n",
    "(PDB 7DF4; DOI 10.1126/sciadv.abe5575)"
   ]
  },
  {
   "cell_type": "markdown",
   "metadata": {},
   "source": [
    "---"
   ]
  },
  {
   "cell_type": "markdown",
   "metadata": {},
   "source": [
    "## Suche nach Mutationen mit BWA, SAM und BCF\n",
    "\n",
    "Dieses Vorgehen ist für **fortgeschrittene** Nutzer von Linux und erfordert die Installation mehrerer Software Pakete: bwa, samtools und bcftools. Allerdings ist diese Pipeline angelehnt an die Analyse von Sequenzdaten und die Suche nach SNPs und daher universeller einsetzbar.\n",
    "\n",
    "Als erstes Alignieren wir die SARS-CoV-2 Genome mit __BWA__ mit dem Referenzgenom. Dazu müssen wir einen Index erstellen, damit das Programm BWA auf die Daten zugreifen kann. Dabei werden einige Dateien erstellt."
   ]
  },
  {
   "cell_type": "code",
   "execution_count": null,
   "metadata": {},
   "outputs": [],
   "source": [
    "bwa index NC_045512.2.fasta"
   ]
  },
  {
   "cell_type": "markdown",
   "metadata": {},
   "source": [
    "Dann folgt das eigentliche Alignment:"
   ]
  },
  {
   "cell_type": "code",
   "execution_count": null,
   "metadata": {},
   "outputs": [],
   "source": [
    "bwa mem NC_045512.2.fasta cov2-len-29903.fasta > alignment.sam"
   ]
  },
  {
   "cell_type": "markdown",
   "metadata": {},
   "source": [
    "Jetzt muss die SAM-Datei mit __SamTools__ in eine binäre BAM-Datei umgewandelt werden. Die Option `-b` besagt, das die Ausgabe im BAM-Format sein soll:"
   ]
  },
  {
   "cell_type": "code",
   "execution_count": null,
   "metadata": {},
   "outputs": [],
   "source": [
    "samtools view -b alignment.sam > alignment.sam.bam"
   ]
  },
  {
   "cell_type": "markdown",
   "metadata": {},
   "source": [
    "Jetzt folgt ein Sortierschritt für den schnelleren Datenzugriff:"
   ]
  },
  {
   "cell_type": "code",
   "execution_count": null,
   "metadata": {},
   "outputs": [],
   "source": [
    "samtools sort alignment.sam.bam > alignment.sam.sorted.bam"
   ]
  },
  {
   "cell_type": "markdown",
   "metadata": {},
   "source": [
    "Es folgen eine Indexierung des Referenzgenoms (`faidx`) und die Suche nach Sequenzunterschieden (`mpileup`) mit __SamTools__ und die Erstellung einer Datei im VCF-Format (_variant calling format_) mit __BcfTools__ (`view`):"
   ]
  },
  {
   "cell_type": "code",
   "execution_count": null,
   "metadata": {},
   "outputs": [],
   "source": [
    "samtools faidx NC_045512.2.fasta"
   ]
  },
  {
   "cell_type": "code",
   "execution_count": null,
   "metadata": {},
   "outputs": [],
   "source": [
    "bcftools mpileup -d 2000 -f NC_045512.2.fasta alignment.sam.sorted.bam > alignment.bcf"
   ]
  },
  {
   "cell_type": "code",
   "execution_count": null,
   "metadata": {},
   "outputs": [],
   "source": [
    "bcftools call --variants-only --multiallelic-caller --ploidy 1 -o alignment.variants.vcf alignment.bcf"
   ]
  },
  {
   "cell_type": "code",
   "execution_count": null,
   "metadata": {},
   "outputs": [],
   "source": [
    "awk '$1 !~ /^##/{OFS=\"\\t\"; print $2,$4,$5,$6}' alignment.variants.vcf"
   ]
  },
  {
   "cell_type": "markdown",
   "metadata": {},
   "source": [
    "### Auswertung\n",
    "Das Ergbnis zeigt, dass bspw. an Position 241 im Referenzgenom ein C, in den meisten anderen Genomen aber ein T vorliegt. Die Qualität _QUAL_ liegt als sogenannter Phred-Score vor. Einer Fehlerwahrscheinlichkeit E von 10% entspricht ein Quality-Score Q von 10; von 1% -> 20; von 0.1% -> 30. Es gilt E=10^(-Q/10) und Q=-10xlogE.\n",
    "\n",
    "Natürlich liefert uns diese Pipeline nur häufige SNPs, denn sie ist eigentlich für die Suche nach relevanten Mutationen (SNPs) in größeren Populationen gedacht. Im Falle von Viren, können aber auch sehr seltene Varianten schnell Verbreitung finden. Diese finden wir zum Beispiel mit der oben dargestellten AWK-Variante."
   ]
  },
  {
   "cell_type": "code",
   "execution_count": null,
   "metadata": {},
   "outputs": [],
   "source": []
  }
 ],
 "metadata": {
  "kernelspec": {
   "display_name": "Bash",
   "language": "bash",
   "name": "bash"
  },
  "language_info": {
   "codemirror_mode": "shell",
   "file_extension": ".sh",
   "mimetype": "text/x-sh",
   "name": "bash"
  }
 },
 "nbformat": 4,
 "nbformat_minor": 4
}
